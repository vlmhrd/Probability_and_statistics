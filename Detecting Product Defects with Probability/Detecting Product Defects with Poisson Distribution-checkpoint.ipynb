{
 "cells": [
  {
   "cell_type": "code",
   "execution_count": 2,
   "id": "eae07289-393a-4fbb-9db9-6a4454efd513",
   "metadata": {},
   "outputs": [],
   "source": [
    "#  Investigating attributes of the Poisson distribution given that the number of defects on a given day follows the Poisson distribution with the rate parameter (lambda) equal to 7\n",
    "\n",
    "import scipy.stats as stats\n",
    "import numpy as np\n",
    "lam=7"
   ]
  },
  {
   "cell_type": "code",
   "execution_count": 4,
   "id": "372f0e11-f24e-4008-8c0c-8c17a4cfd0ba",
   "metadata": {},
   "outputs": [
    {
     "name": "stdout",
     "output_type": "stream",
     "text": [
      "0.14900277967433773\n"
     ]
    }
   ],
   "source": [
    "# Calculating the probability of observing exactly lam defects on a given day\n",
    "print(stats.poisson.pmf(7,7))"
   ]
  },
  {
   "cell_type": "code",
   "execution_count": 6,
   "id": "84c0a0d9-3797-4dbb-b39a-32e3a3b8b1c4",
   "metadata": {},
   "outputs": [
    {
     "name": "stdout",
     "output_type": "stream",
     "text": [
      "0.17299160788207146\n"
     ]
    }
   ],
   "source": [
    "# Calculating the probability of having  4 or fewer defects \n",
    "print(stats.poisson.cdf(4,7))"
   ]
  },
  {
   "cell_type": "code",
   "execution_count": 8,
   "id": "7f3e423f-b37a-4479-a2ec-04e5c223321c",
   "metadata": {},
   "outputs": [
    {
     "name": "stdout",
     "output_type": "stream",
     "text": [
      "0.16950406276132668\n"
     ]
    }
   ],
   "source": [
    "# Probability of having 9 or more defects \n",
    "print( 1 - stats.poisson.cdf(9,7))"
   ]
  },
  {
   "cell_type": "code",
   "execution_count": null,
   "id": "20fee0cd-ae43-4b79-b439-338b6baa489c",
   "metadata": {},
   "outputs": [],
   "source": [
    "# Creating a sample size distribution with 365 values\n",
    "year_defects = stats.poisson.rvs(7, size = 365)\n",
    "print(year_defects[0:20])"
   ]
  },
  {
   "cell_type": "code",
   "execution_count": 12,
   "id": "6f6a1279-a773-4d0d-902f-3d7b01a63bb7",
   "metadata": {},
   "outputs": [
    {
     "name": "stdout",
     "output_type": "stream",
     "text": [
      "7.120547945205479\n"
     ]
    }
   ],
   "source": [
    "# An average number of defects per day \n",
    "year_defects = stats.poisson.rvs(7, size = 365)\n",
    "print(year_defects.mean())\n"
   ]
  },
  {
   "cell_type": "code",
   "execution_count": 20,
   "id": "43939e15-b5ee-4d1e-97b0-7a3db030e619",
   "metadata": {},
   "outputs": [
    {
     "name": "stdout",
     "output_type": "stream",
     "text": [
      "15\n",
      "0.0001298514334795442\n"
     ]
    }
   ],
   "source": [
    "# Probability of observing the maximum value or more \n",
    "year_defects = stats.poisson.rvs(7, size = 365)\n",
    "print(max(year_defects))\n",
    "print(1 - stats.poisson.cdf(18,7))\n"
   ]
  },
  {
   "cell_type": "code",
   "execution_count": 22,
   "id": "7f45c361-b3fe-4899-8d3d-43ff8488a2d4",
   "metadata": {},
   "outputs": [
    {
     "name": "stdout",
     "output_type": "stream",
     "text": [
      "10.0\n"
     ]
    }
   ],
   "source": [
    "# How many defects in a given day would put us in the 90th percentile of the Poisson(7) distribution?\n",
    "print(stats.poisson.ppf(0.9, 7))"
   ]
  },
  {
   "cell_type": "code",
   "execution_count": 24,
   "id": "f44569f1-8a79-487f-ac2a-db4f484619aa",
   "metadata": {},
   "outputs": [
    {
     "name": "stdout",
     "output_type": "stream",
     "text": [
      "0.23835616438356164\n"
     ]
    }
   ],
   "source": [
    "# What proportion of the simulated dataset is greater than or equal to the number in previous step \n",
    "print(sum(year_defects >= 10)/len(year_defects))\n"
   ]
  }
 ],
 "metadata": {
  "kernelspec": {
   "display_name": "Python [conda env:base] *",
   "language": "python",
   "name": "conda-base-py"
  },
  "language_info": {
   "codemirror_mode": {
    "name": "ipython",
    "version": 3
   },
   "file_extension": ".py",
   "mimetype": "text/x-python",
   "name": "python",
   "nbconvert_exporter": "python",
   "pygments_lexer": "ipython3",
   "version": "3.12.7"
  }
 },
 "nbformat": 4,
 "nbformat_minor": 5
}
